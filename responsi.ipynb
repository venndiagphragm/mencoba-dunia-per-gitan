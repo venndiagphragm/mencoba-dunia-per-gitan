{
 "cells": [
  {
   "cell_type": "code",
   "execution_count": 94,
   "metadata": {},
   "outputs": [],
   "source": [
    "loketA = []\n",
    "loketB = []\n",
    "\n",
    "def masuk():\n",
    "    subjek = input(\"masukkan nama anda : \")\n",
    "    if len(loketA) < 2:\n",
    "        loketA.append(subjek)\n",
    "        print(f\"antrian {loketA[-1]} masuk\")\n",
    "    elif len(loketB) < 2:\n",
    "        loketB.append(subjek)\n",
    "        print(f\"antrian {loketB[-1]} masuk\")\n",
    "    else:\n",
    "        loketA.append(subjek)\n",
    "        loketA.pop(0)\n",
    "\n",
    "def antrian():\n",
    "    print(f\"antrian di loket A: {loketA}\")\n",
    "    print(f\"antrian di loket B: {loketB}\")\n",
    "\n",
    "def keluar():\n",
    "    if len(loketA) > 0:\n",
    "        print(f'{loketA[0]} keluar dari loket A')\n",
    "        loketA.pop(0)\n",
    "    elif len(loketB) > 0:\n",
    "        print(f'{loketB[0]} keluar dari loket B')\n",
    "        loketB.pop(0\n",
    "                   )\n",
    "    else:\n",
    "        print('antrian kosong')"
   ]
  },
  {
   "cell_type": "markdown",
   "metadata": {},
   "source": []
  },
  {
   "cell_type": "code",
   "execution_count": 125,
   "metadata": {},
   "outputs": [
    {
     "name": "stdout",
     "output_type": "stream",
     "text": [
      "antrian di loket A: ['dana', 'kilua']\n",
      "antrian di loket B: ['tyler', 'jay']\n"
     ]
    },
    {
     "ename": "",
     "evalue": "",
     "output_type": "error",
     "traceback": [
      "\u001b[1;31mThe Kernel crashed while executing code in the current cell or a previous cell. \n",
      "\u001b[1;31mPlease review the code in the cell(s) to identify a possible cause of the failure. \n",
      "\u001b[1;31mClick <a href='https://aka.ms/vscodeJupyterKernelCrash'>here</a> for more info. \n",
      "\u001b[1;31mView Jupyter <a href='command:jupyter.viewOutput'>log</a> for further details."
     ]
    }
   ],
   "source": [
    "masuk()\n",
    "antrian()"
   ]
  },
  {
   "cell_type": "code",
   "execution_count": 117,
   "metadata": {},
   "outputs": [
    {
     "name": "stdout",
     "output_type": "stream",
     "text": [
      "antrian kosong\n"
     ]
    }
   ],
   "source": [
    "keluar()"
   ]
  }
 ],
 "metadata": {
  "kernelspec": {
   "display_name": "Python 3",
   "language": "python",
   "name": "python3"
  },
  "language_info": {
   "codemirror_mode": {
    "name": "ipython",
    "version": 3
   },
   "file_extension": ".py",
   "mimetype": "text/x-python",
   "name": "python",
   "nbconvert_exporter": "python",
   "pygments_lexer": "ipython3",
   "version": "3.11.5"
  }
 },
 "nbformat": 4,
 "nbformat_minor": 2
}
